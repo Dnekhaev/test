{
 "cells": [
  {
   "cell_type": "code",
   "execution_count": null,
   "metadata": {
    "collapsed": false,
    "scrolled": true
   },
   "outputs": [],
   "source": [
    "fizzbuzz = []\n",
    "for i in range(1, 35):\n",
    "    element = ''\n",
    "    if i%3 == 0:\n",
    "        element += 'fizz'\n",
    "    if i%5 == 0:\n",
    "        element += 'buzz'\n",
    "    if i%3 != 0 and i%5 != 0:\n",
    "        element = i\n",
    "    fizzbuzz.append(element)\n",
    "    \n",
    "for element in fizzbuzz:\n",
    "    print(element)"
   ]
  },
  {
   "cell_type": "code",
   "execution_count": null,
   "metadata": {
    "collapsed": false,
    "scrolled": true
   },
   "outputs": [],
   "source": [
    "def fib(n):\n",
    "    if n>2:\n",
    "        return fib(n - 1) + fib(n - 2) \n",
    "    else: \n",
    "        return 1\n",
    "\n",
    "print fib(100)"
   ]
  },
  {
   "cell_type": "code",
   "execution_count": 111,
   "metadata": {
    "collapsed": false,
    "scrolled": true
   },
   "outputs": [
    {
     "name": "stdout",
     "output_type": "stream",
     "text": [
      "[1, 2, 2, 2, 3, 4, 5, 5, 5, 7, 8, 8, 16]\n",
      "[1, 2, 2, 2, 3, 4, 5, 5, 5, 7, 8, 8, 16]\n",
      "100000 loops, best of 3: 12.9 µs per loop\n",
      "100000 loops, best of 3: 11.5 µs per loop\n"
     ]
    }
   ],
   "source": [
    "def sort(array):\n",
    "    less = []\n",
    "    equal = []\n",
    "    greater = []\n",
    "\n",
    "    if len(array) > 1:\n",
    "        pivot = array[0]\n",
    "        for x in array:\n",
    "            if x < pivot:\n",
    "                less.append(x)\n",
    "            if x == pivot:\n",
    "                equal.append(x)\n",
    "            if x > pivot:\n",
    "                greater.append(x)\n",
    "        return sort(less)+equal+sort(greater)\n",
    "    else: \n",
    "        return array\n",
    "\n",
    "def qsort(L):\n",
    "    if L: return qsort([x for x in L if x<L[0]]) + [x for x in L if x==L[0]] + qsort([x for x in L if x>L[0]])\n",
    "    return []\n",
    "\n",
    "print qsort([3,2,5,8,1,2,5,16,2,4,5,7,8])\n",
    "print sort([3,2,5,8,1,2,5,16,2,4,5,7,8])\n",
    "%timeit qsort([3,2,5,8,1,2,5,16,2,4,5,7,8])\n",
    "%timeit sort([3,2,5,8,1,2,5,16,2,4,5,7,8])"
   ]
  },
  {
   "cell_type": "code",
   "execution_count": 36,
   "metadata": {
    "collapsed": false,
    "scrolled": true
   },
   "outputs": [
    {
     "name": "stdout",
     "output_type": "stream",
     "text": [
      "The slowest run took 6.50 times longer than the fastest. This could mean that an intermediate result is being cached.\n",
      "100000 loops, best of 3: 9.08 µs per loop\n",
      "100000 loops, best of 3: 6.98 µs per loop\n",
      "100000 loops, best of 3: 5.48 µs per loop\n"
     ]
    }
   ],
   "source": [
    "import numpy as np\n",
    "\n",
    "%timeit np.linspace(0,10, 21)\n",
    "\n",
    "def linsp(start, end, num):\n",
    "    ls = []\n",
    "    step = (end-start)/(num-1)\n",
    "    for i in np.arange(start, end+step, step):\n",
    "        ls.append(i)\n",
    "    return ls\n",
    "\n",
    "%timeit linsp(0., 10., 21.)\n",
    "\n",
    "def linsp_cl(start, end, num):\n",
    "    step = (end-start)/(num-1)\n",
    "    return [x for x in np.arange(start, end+step, step)]\n",
    "\n",
    "%timeit linsp_cl(0., 10., 21.)"
   ]
  },
  {
   "cell_type": "code",
   "execution_count": 43,
   "metadata": {
    "collapsed": false,
    "scrolled": true
   },
   "outputs": [
    {
     "name": "stdout",
     "output_type": "stream",
     "text": [
      "The slowest run took 44.98 times longer than the fastest. This could mean that an intermediate result is being cached.\n",
      "1000000 loops, best of 3: 475 ns per loop\n",
      "1000000 loops, best of 3: 864 ns per loop\n",
      "The slowest run took 35.00 times longer than the fastest. This could mean that an intermediate result is being cached.\n",
      "1000000 loops, best of 3: 477 ns per loop\n",
      "1000000 loops, best of 3: 888 ns per loop\n",
      "The slowest run took 25.85 times longer than the fastest. This could mean that an intermediate result is being cached.\n",
      "1000000 loops, best of 3: 480 ns per loop\n",
      "1000000 loops, best of 3: 981 ns per loop\n",
      "The slowest run took 17.60 times longer than the fastest. This could mean that an intermediate result is being cached.\n",
      "1000000 loops, best of 3: 972 ns per loop\n",
      "The slowest run took 4.17 times longer than the fastest. This could mean that an intermediate result is being cached.\n",
      "1000000 loops, best of 3: 924 ns per loop\n",
      "The slowest run took 28.23 times longer than the fastest. This could mean that an intermediate result is being cached.\n",
      "10000000 loops, best of 3: 151 ns per loop\n",
      "10000000 loops, best of 3: 147 ns per loop\n"
     ]
    }
   ],
   "source": [
    "a = np.array([20, 30, 40, 50])\n",
    "b = np.arange(1,5)\n",
    "c = [20, 30, 40, 50]\n",
    "d = range(1,5)\n",
    "%timeit a + b\n",
    "%timeit [x + y for x,y in zip(c,d)]\n",
    "%timeit a - b\n",
    "%timeit [x - y for x,y in zip(c,d)]\n",
    "%timeit a * b\n",
    "%timeit [x * y for x,y in zip(c,d)]\n",
    "%timeit a ** b\n",
    "%timeit [x ** y for x,y in zip(c,d)]\n",
    "%timeit a[:3]\n",
    "%timeit c[:3]\n"
   ]
  },
  {
   "cell_type": "code",
   "execution_count": 45,
   "metadata": {
    "collapsed": true
   },
   "outputs": [],
   "source": [
    "%matplotlib inline"
   ]
  },
  {
   "cell_type": "code",
   "execution_count": 74,
   "metadata": {
    "collapsed": false
   },
   "outputs": [
    {
     "data": {
      "image/png": "[encoded data removed]",
      "text/plain": [
       "<matplotlib.figure.Figure at 0xa2a9dd8>"
      ]
     },
     "metadata": {},
     "output_type": "display_data"
    }
   ],
   "source": [
    "from matplotlib import pylab as plt\n",
    "x = np.arange(7)\n",
    "y = x**2\n",
    "\n",
    "plt.figure()\n",
    "plt.subplot(121)\n",
    "plt.plot(x, y, label = '$x^2$')\n",
    "y = x\n",
    "plt.plot(x, y, label = '$x$')\n",
    "y = x**(1.5)\n",
    "plt.plot(x, y, label = '$\\sqrt{x^3}$')\n",
    "plt.legend(loc='best')\n",
    "plt.xlabel('x')\n",
    "plt.ylabel('y')\n",
    "\n",
    "plt.subplot(122)\n",
    "x = np.arange(0,15,0.01)\n",
    "y = np.sin(x)\n",
    "plt.plot(x, y, label = '$sin(x)$')\n",
    "y = np.cos(x)\n",
    "plt.plot(x, y, label = '$cos(x)$')\n",
    "plt.legend(loc='best')\n",
    "plt.xlabel('x')\n",
    "plt.ylabel('y')\n",
    "\n",
    "#plt.show()\n",
    "plt.savefig('D:/test.png')"
   ]
  },
  {
   "cell_type": "code",
   "execution_count": 75,
   "metadata": {
    "collapsed": true
   },
   "outputs": [],
   "source": [
    "from scipy import linalg"
   ]
  },
  {
   "cell_type": "code",
   "execution_count": 109,
   "metadata": {
    "collapsed": false
   },
   "outputs": [
    {
     "ename": "TypeError",
     "evalue": "only length-1 arrays can be converted to Python scalars",
     "output_type": "error",
     "traceback": [
      "\u001b[0;31m---------------------------------------------------------------------------\u001b[0m",
      "\u001b[0;31mTypeError\u001b[0m                                 Traceback (most recent call last)",
      "\u001b[0;32m<ipython-input-109-2f2fc7f2d8ce>\u001b[0m in \u001b[0;36m<module>\u001b[0;34m()\u001b[0m\n\u001b[1;32m      3\u001b[0m \u001b[0mvals\u001b[0m\u001b[1;33m,\u001b[0m \u001b[0mvectors\u001b[0m \u001b[1;33m=\u001b[0m \u001b[0mlinalg\u001b[0m\u001b[1;33m.\u001b[0m\u001b[0meig\u001b[0m\u001b[1;33m(\u001b[0m\u001b[0mA\u001b[0m\u001b[1;33m)\u001b[0m\u001b[1;33m\u001b[0m\u001b[0m\n\u001b[1;32m      4\u001b[0m \u001b[1;33m\u001b[0m\u001b[0m\n\u001b[0;32m----> 5\u001b[0;31m \u001b[1;32mprint\u001b[0m \u001b[1;33m[\u001b[0m\u001b[0mround\u001b[0m\u001b[1;33m(\u001b[0m\u001b[0mnp\u001b[0m\u001b[1;33m.\u001b[0m\u001b[0mdot\u001b[0m\u001b[1;33m(\u001b[0m\u001b[0mA\u001b[0m\u001b[1;33m-\u001b[0m\u001b[0mE\u001b[0m\u001b[1;33m*\u001b[0m\u001b[0mvals\u001b[0m\u001b[1;33m[\u001b[0m\u001b[0mi\u001b[0m\u001b[1;33m]\u001b[0m\u001b[1;33m,\u001b[0m \u001b[0mvectors\u001b[0m\u001b[1;33m.\u001b[0m\u001b[0mT\u001b[0m\u001b[1;33m[\u001b[0m\u001b[0mi\u001b[0m\u001b[1;33m]\u001b[0m\u001b[1;33m)\u001b[0m\u001b[1;33m,\u001b[0m \u001b[1;36m4\u001b[0m\u001b[1;33m)\u001b[0m \u001b[1;32mfor\u001b[0m \u001b[0mi\u001b[0m \u001b[1;32min\u001b[0m \u001b[0mnp\u001b[0m\u001b[1;33m.\u001b[0m\u001b[0marange\u001b[0m\u001b[1;33m(\u001b[0m\u001b[0mlen\u001b[0m\u001b[1;33m(\u001b[0m\u001b[0mvals\u001b[0m\u001b[1;33m)\u001b[0m\u001b[1;33m)\u001b[0m\u001b[1;33m]\u001b[0m\u001b[1;33m\u001b[0m\u001b[0m\n\u001b[0m",
      "\u001b[0;31mTypeError\u001b[0m: only length-1 arrays can be converted to Python scalars"
     ]
    }
   ],
   "source": [
    "A = np.random.randn(5,5)\n",
    "E = np.eye(5)\n",
    "vals, vectors = linalg.eig(A)\n",
    "\n",
    "print [np.dot(A-E*vals[i], vectors.T[i]) for i in np.arange(len(vals))]"
   ]
  },
  {
   "cell_type": "code",
   "execution_count": null,
   "metadata": {
    "collapsed": true
   },
   "outputs": [],
   "source": []
  }
 ],
 "metadata": {
  "kernelspec": {
   "display_name": "Python [conda root]",
   "language": "python",
   "name": "conda-root-py"
  },
  "language_info": {
   "codemirror_mode": {
    "name": "ipython",
    "version": 2
   },
   "file_extension": ".py",
   "mimetype": "text/x-python",
   "name": "python",
   "nbconvert_exporter": "python",
   "pygments_lexer": "ipython2",
   "version": "2.7.12"
  }
 },
 "nbformat": 4,
 "nbformat_minor": 1
}
